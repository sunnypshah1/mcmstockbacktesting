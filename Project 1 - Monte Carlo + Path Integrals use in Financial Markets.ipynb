{
  "metadata": {
    "kernelspec": {
      "name": "python",
      "display_name": "Python (Pyodide)",
      "language": "python"
    },
    "language_info": {
      "codemirror_mode": {
        "name": "python",
        "version": 3
      },
      "file_extension": ".py",
      "mimetype": "text/x-python",
      "name": "python",
      "nbconvert_exporter": "python",
      "pygments_lexer": "ipython3",
      "version": "3.8"
    }
  },
  "nbformat_minor": 4,
  "nbformat": 4,
  "cells": [
    {
      "cell_type": "markdown",
      "source": "**Application of Geometric Brownian Motion (GBM) to calculate European Option Price using Monte Carlo Simulation**",
      "metadata": {}
    },
    {
      "cell_type": "markdown",
      "source": "This code estimates the price of a European call option using Monte Carlo simulation by generating multiple paths for the stock price using the GBM model and then calculating the average payoff discounted to present value.",
      "metadata": {}
    },
    {
      "cell_type": "code",
      "source": "import numpy as np\n\n# Parameters\nS0 = 100       # Initial stock price\nK = 105        # Strike price\nT = 1.0        # Time to maturity in years\nr = 0.05       # Risk-free rate\nsigma = 0.2    # Volatility\nN = 365        # Number of time steps\nM = 10000      # Number of simulated paths\ndt = T / N     # Time step\n\nnp.random.seed(0)  # For reproducibility\n\n# Simulate M stock price paths\npaths = np.zeros((M, N+1))\npaths[:, 0] = S0\nfor t in range(1, N + 1):\n    Z = np.random.standard_normal(M)  # Random shocks\n    paths[:, t] = paths[:, t-1] * np.exp((r - 0.5 * sigma**2) * dt + sigma * np.sqrt(dt) * Z)\n\n# Calculate the payoff for a European call option\npayoffs = np.maximum(paths[:, -1] - K, 0)\noption_price = np.exp(-r * T) * np.mean(payoffs)\n\nprint(f\"Estimated European Call Option Price: {option_price:.2f}\")\n",
      "metadata": {
        "trusted": true
      },
      "outputs": [
        {
          "name": "stdout",
          "text": "Estimated European Call Option Price: 7.95\n",
          "output_type": "stream"
        }
      ],
      "execution_count": 1
    },
    {
      "cell_type": "markdown",
      "source": "**Next Steps - Applying Polygon.io Stock Options API Data to Price American Options**",
      "metadata": {}
    },
    {
      "cell_type": "markdown",
      "source": "The next steps involved in the process is to change the code by applying the Rest API to pull data from Polgon.io's option data which can provide the necessary information to apply the GBM to American options. We will first need to change the code to allow for the options to be exercised at any time which is the difference between American and European options. This feature makes American options more complex to price using Monte Carlo simulation, as you must consider the option's value at every point in time along each simulated path.",
      "metadata": {}
    },
    {
      "cell_type": "markdown",
      "source": "A common approach to price American options with Monte Carlo simulation is through the use of the Least Squares Monte Carlo (LSM) method, introduced by Longstaff and Schwartz. The LSM method involves simulating multiple paths for the underlying asset's price, as before, but then uses a regression technique at each time step to estimate the continuation value of holding the option versus the immediate exercise value, deciding the optimal strategy at each step.",
      "metadata": {}
    },
    {
      "cell_type": "markdown",
      "source": "1. Simulate the stock price paths as before.\n2. At each time step and for each path, calculate the payoff if the option were exercised at that time (for a call, this would be max(S_t -     K, 0), where S_t is the stock price at time t).\n3. Use backward induction: starting from the second-to-last time step, estimate the continuation value of the option (if not exercised)         using a regression on the simulated stock prices, and compare it to the immediate exercise value. The option's value at this time and        path is the maximum of the exercise value and the estimated continuation value.\n4. Move backward through time, repeating step 3, until you reach the first time step.\n5. The option price is the average of the discounted values at the first time step.",
      "metadata": {}
    },
    {
      "cell_type": "code",
      "source": "import numpy as np\nfrom sklearn.linear_model import LinearRegression\n\n# Parameters\nS0 = 36.0       # Initial stock price\nK = 40.0        # Strike price\nT = 1.0         # Time to maturity in years\nr = 0.06        # Risk-free rate\nsigma = 0.2     # Volatility\ndiv = 0.06      # Dividend yield\nN = 50          # Number of time steps\nM = 10000       # Number of simulated paths\ndt = T / N      # Time step\n\nnp.random.seed(123)  # For reproducibility\n\n# Simulate M stock price paths with adjustments for dividends\npaths = np.zeros((M, N+1))\npaths[:, 0] = S0\nfor t in range(1, N + 1):\n    Z = np.random.standard_normal(M)  # Random shocks\n    paths[:, t] = paths[:, t-1] * np.exp((r - div - 0.5 * sigma**2) * dt + sigma * np.sqrt(dt) * Z)\n\n# Function to calculate the payoff for an American option (put in this case)\ndef american_option_payoff(paths, K):\n    return np.maximum(K - paths, 0)\n\n# Initialize the payoff matrix for an American put option\npayoffs = american_option_payoff(paths, K)\n\n# Initialize the value matrix (same as payoffs for the last step)\nvalues = np.zeros_like(payoffs)\nvalues[:, -1] = payoffs[:, -1]\n\n# LSM algorithm for American options\nfor t in range(N-1, 0, -1):\n    in_the_money = paths[:, t] < K  # Condition for being in the money for a put option\n    X = paths[in_the_money, t]\n    Y = values[in_the_money, t+1] * np.exp(-r * dt)\n    if len(X) > 0:  # Only proceed if there are paths in the money\n        regression = np.polyfit(X, Y, deg=2)\n        continuation_values = np.polyval(regression, paths[in_the_money, t])\n        exercise_values = payoffs[in_the_money, t]\n        # Decide between exercising and continuing\n        values[in_the_money, t] = np.where(exercise_values > continuation_values, exercise_values, Y)\n\n# Calculate the option price as the average of the discounted first-step values\namerican_option_price = np.mean(values[:, 1] * np.exp(-r * dt))\n\nprint(f\"Estimated American Put Option Price: {american_option_price:.2f}\")",
      "metadata": {
        "trusted": true,
        "scrolled": true
      },
      "outputs": [
        {
          "name": "stdout",
          "text": "Estimated American Put Option Price: 4.18\n",
          "output_type": "stream"
        }
      ],
      "execution_count": 4
    },
    {
      "cell_type": "markdown",
      "source": "Here's an example of Python code that allows a user to enter a specific options symbol and date to receive data from the Tradier API.",
      "metadata": {}
    },
    {
      "cell_type": "code",
      "source": "import requests\n\ndef get_option_chain(symbol, expiration, include_greeks=True):\n    API_KEY = 'YOUR_API_KEY_HERE'  # Replace with your Tradier API token\n    endpoint = \"https://api.tradier.com/v1/markets/options/chains\"\n    headers = {\n        'Authorization': f'Bearer {API_KEY}',\n        'Accept': 'application/json'\n    }\n    params = {\n        'symbol': symbol,\n        'expiration': expiration,\n        'greeks': str(include_greeks).lower()\n    }\n    response = requests.get(endpoint, headers=headers, params=params)\n    if response.status_code == 200:\n        return response.json()\n    else:\n        return f\"Error: {response.status_code} - {response.text}\"\n\n# Example usage\nsymbol = input(\"Enter the underlying symbol (e.g., AAPL): \")\nexpiration = input(\"Enter the expiration date (YYYY-MM-DD): \")\noption_data = get_option_chain(symbol, expiration)\nprint(option_data)\n",
      "metadata": {
        "trusted": true
      },
      "outputs": [],
      "execution_count": null
    },
    {
      "cell_type": "markdown",
      "source": "Here's how to integrate the API implementation directly into the American option pricing code. This script will fetch the options chain from Tradier, extract the Greeks data, and use it to calculate the price of an American option using the Binomial model:",
      "metadata": {}
    }
  ]
}